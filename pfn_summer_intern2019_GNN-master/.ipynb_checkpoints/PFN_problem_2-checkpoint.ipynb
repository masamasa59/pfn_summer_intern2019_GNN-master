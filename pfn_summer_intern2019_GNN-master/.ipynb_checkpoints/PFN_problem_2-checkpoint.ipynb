{
 "cells": [
  {
   "cell_type": "code",
   "execution_count": 4,
   "metadata": {},
   "outputs": [],
   "source": [
    "import numpy as np\n",
    "import matplotlib.pyplot as plt\n",
    "import time"
   ]
  },
  {
   "cell_type": "code",
   "execution_count": 7,
   "metadata": {},
   "outputs": [],
   "source": [
    "#モデルと損失関数の定義, テスト時はスコアの確認\n",
    "def reLu(z):\n",
    "    return np.maximum(0, z)\n",
    "\n",
    "def model2(data_x, G, W, A, b, y):\n",
    "    \n",
    "        V = len(G[0]) #ノード数\n",
    "        D = len(data_x[0])#頂点の次元\n",
    "        \n",
    "        a1 =np.zeros([V,D])#各要素の隣接値の和\n",
    "        f1 =np.zeros([V,D])#各活性化関数の値\n",
    "        a2 =np.zeros([V,D])\n",
    "        f2 =np.zeros([V,D])\n",
    "        a3 =np.zeros([V,D])\n",
    "        f3 =np.zeros([V,D])\n",
    "        set_id = [] #隣接ノードのindex集合.\n",
    "        for i in range(0, V):\n",
    "            set_id .append([G_id for G_id, element in enumerate(G[i]) if element == 1])#ノードi　の隣接idを格納\n",
    "            a1[i] = np.sum(data_x[set_id[i]] , axis=0)\n",
    "            f1[i] =  reLu(np.dot(W,a1[i]))\n",
    "        for i in range(0, V):   \n",
    "            a2[i] = np.sum(f1[set_id[i]] , axis=0)\n",
    "            f2[i] =  reLu(np.dot(W,a2[i]))\n",
    "        for i in range(0, V):\n",
    "            a3[i] = np.sum(f2[set_id[i]] , axis=0)\n",
    "            f3[i] =  reLu(np.dot(W,a3[i]))\n",
    "        h = np.sum(f3, axis=0)\n",
    "        s = np.dot(A,h)+b\n",
    "        \n",
    "        #損失関数\n",
    "        loss =  y*np.log(1+np.exp(-s)+1e-4) +(1-y)*np.log(1+np.exp(s)+1e-4)\n",
    "\n",
    "        return loss"
   ]
  },
  {
   "cell_type": "code",
   "execution_count": 8,
   "metadata": {},
   "outputs": [],
   "source": [
    "#全パラメータを勾配計算する \n",
    "def gradient(data_x, G, W, A, b, y):\n",
    "    epsilon =0.001#数値微分の幅\n",
    "    alpha = 0.01 #学習率\n",
    "    loss = [] #lossの値保存\n",
    "    loss_Grad_W = np.zeros(W.size) #Wの勾配を保存\n",
    "    loss_Grad_A = np.zeros(A.size) #Aの勾配を保存\n",
    "    \n",
    "    Delta = np.zeros([W[0].size,W[0].size])# Wの勾配計算時のデルタ関数の役割\n",
    "    Delta2 = np.zeros(A.size)# Aの勾配計算時のデルタ関数の役割\n",
    "    for i in range(5000): #epoch数\n",
    "        for j in range(W.size):\n",
    "            Delta[int(j/W[0].size), int(j%W[0].size)] = epsilon #ある要素だけepsilonの値を持ち, Grad計算に使用. \n",
    "            loss_Grad_W[j] = (model2(data_x, G, W+Delta, A, b, y)-model2(data_x, G, W, A, b, y))/epsilon \n",
    "            Delta[int(j/W[0].size), int(j%W[0].size)] = 0 \n",
    "\n",
    "        for k in range(A.size):\n",
    "            Delta2[k] = epsilon \n",
    "            loss_Grad_A[k] =  (model2(data_x,G, W, A+Delta2, b, y)-model2(data_x,G, W, A, b, y))/epsilon\n",
    "            Delta2[k] = 0\n",
    "            \n",
    "        #パラメータの更新\n",
    "        W = W - alpha*np.reshape(loss_Grad_W, [W[0].size, W[0].size]) \n",
    "        A = A - alpha*loss_Grad_A\n",
    "        b = b  -  alpha*(model2(data_x,G, W, A, b+epsilon, y)-model2(data_x,G, W, A, b, y))/epsilon\n",
    "\n",
    "        loss.append(model2(data_x, G, W, A, b, y))\n",
    "    print(model2(data_x,G, W, A, b, y))\n",
    "    return loss"
   ]
  },
  {
   "cell_type": "code",
   "execution_count": 9,
   "metadata": {},
   "outputs": [
    {
     "name": "stdout",
     "output_type": "stream",
     "text": [
      "data_x [[0. 1.]\n",
      " [0. 1.]\n",
      " [0. 1.]\n",
      " [0. 1.]\n",
      " [0. 1.]\n",
      " [0. 1.]\n",
      " [0. 1.]\n",
      " [0. 1.]\n",
      " [0. 1.]\n",
      " [0. 1.]]\n",
      "0.021071664869001052\n"
     ]
    },
    {
     "data": {
      "image/png": "[encoded data removed]",
      "text/plain": [
       "<Figure size 432x288 with 1 Axes>"
      ]
     },
     "metadata": {
      "needs_background": "light"
     },
     "output_type": "display_data"
    }
   ],
   "source": [
    "#人工データ\n",
    "#グラフの定義\n",
    "G=[[0,1,0,0,1,0,0,0,0,0],\n",
    "      [0,0,1,0,1,0,0,0,0,0],\n",
    "      [0,1,0,0,0,0,1,0,0,0],\n",
    "      [0,0,0,0,1,0,0,0,0,0],\n",
    "      [0,1,0,0,0,0,0,1,0,0],\n",
    "      [0,0,0,0,0,0,1,0,1,0],\n",
    "      [0,0,1,0,0,1,0,0,0,0],\n",
    "      [0,0,0,0,1,0,0,0,0,1],\n",
    "      [0,0,0,0,0,1,0,0,0,1],\n",
    "      [0,0,0,0,0,0,0,1,1,0],\n",
    "    ]\n",
    "#データの定義 ノード10点×D(2)次元\n",
    "dim =10\n",
    "a =  [1] * dim\n",
    "data_x = np.identity(2)[a]\n",
    "print(\"data_x\",data_x)\n",
    "y = 0\n",
    "#np.random.seed(seed=5)\n",
    "\n",
    "W = np.random.normal(0,0.4,(len(data_x[0]), len(data_x[0])))\n",
    "A = np.random.normal(0,0.4,len(data_x[0]))\n",
    "b = 0.\n",
    "# 損失の履歴をプロット\n",
    "loss_ = gradient(data_x, G, W, A, b, y)\n",
    "plt.plot(loss_,\"o-\",label=\"loss\")\n",
    "plt.title('model loss')\n",
    "plt.xlabel('epoch')\n",
    "plt.ylabel('loss')\n",
    "plt.legend(loc='lower right')\n",
    "plt.show()"
   ]
  },
  {
   "cell_type": "code",
   "execution_count": 10,
   "metadata": {},
   "outputs": [
    {
     "name": "stdout",
     "output_type": "stream",
     "text": [
      "0.02109148917635901\n"
     ]
    },
    {
     "data": {
      "image/png": "[encoded data removed]",
      "text/plain": [
       "<Figure size 432x288 with 1 Axes>"
      ]
     },
     "metadata": {
      "needs_background": "light"
     },
     "output_type": "display_data"
    },
    {
     "name": "stdout",
     "output_type": "stream",
     "text": [
      "ok\n",
      "0.00010925776606871882\n"
     ]
    },
    {
     "data": {
      "image/png": "[encoded data removed]",
      "text/plain": [
       "<Figure size 432x288 with 1 Axes>"
      ]
     },
     "metadata": {
      "needs_background": "light"
     },
     "output_type": "display_data"
    },
    {
     "name": "stdout",
     "output_type": "stream",
     "text": [
      "ok\n"
     ]
    }
   ],
   "source": [
    "\"\"\"テストコード\"\"\"\n",
    "#y=1,y=0の場合の両方でlossが0.03以下になることを検証\n",
    "#グラフの定義\n",
    "G=[[0,1,0,0,1,0,0,0,0,0],\n",
    "      [0,0,1,0,1,0,0,0,0,0],\n",
    "      [0,1,0,0,0,0,1,0,0,0],\n",
    "      [0,0,0,0,1,0,0,0,0,0],\n",
    "      [0,1,0,0,0,0,0,1,0,0],\n",
    "      [0,0,0,0,0,0,1,0,1,0],\n",
    "      [0,0,1,0,0,1,0,0,0,0],\n",
    "      [0,0,0,0,1,0,0,0,0,1],\n",
    "      [0,0,0,0,0,1,0,0,0,1],\n",
    "      [0,0,0,0,0,0,0,1,1,0],\n",
    "    ]\n",
    "#データの定義 ノード10点×D(2)次元\n",
    "dim =10\n",
    "a =  [1] * dim\n",
    "data_x = np.identity(2)[a]\n",
    "\n",
    "np.random.seed(seed=8)\n",
    "W = np.random.normal(0,0.4,(len(data_x[0]), len(data_x[0])))\n",
    "A = np.random.normal(0,0.4,len(data_x[0]))\n",
    "b = 0.\n",
    "loss_ = gradient(data_x, G, W, A, b, y=1) #y=1のラベルの場合\n",
    "plt.plot(loss_,\"o-\",label=\"loss\")\n",
    "plt.title('model loss')\n",
    "plt.xlabel('epoch')\n",
    "plt.ylabel('loss')\n",
    "plt.legend(loc='lower right')\n",
    "plt.show()\n",
    "if (loss_[-1]<0.03):#lossが0.03以下になるか確認\n",
    "    print(\"ok\")\n",
    "\n",
    "np.random.seed(seed=8)\n",
    "W = np.random.normal(0,0.4,(len(data_x[0]), len(data_x[0])))\n",
    "A = np.random.normal(0,0.4,len(data_x[0]))\n",
    "b = 0.\n",
    "loss_ = gradient(data_x, G, W, A, b, y=0)#y=0のラベルの場合\n",
    "plt.plot(loss_,\"o-\",label=\"loss\")\n",
    "plt.title('model loss')\n",
    "plt.xlabel('epoch')\n",
    "plt.ylabel('loss')\n",
    "plt.legend(loc='lower right')\n",
    "plt.show()\n",
    "if (loss_[-1]<0.03):#lossが0.03以下になるか確認\n",
    "    print(\"ok\")"
   ]
  }
 ],
 "metadata": {
  "kernelspec": {
   "display_name": "Python 3",
   "language": "python",
   "name": "python3"
  }
 },
 "nbformat": 4,
 "nbformat_minor": 2
}
